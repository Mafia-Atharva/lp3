{
  "cells": [
    {
      "cell_type": "markdown",
      "id": "70ec3bae",
      "metadata": {
        "id": "70ec3bae"
      },
      "source": [
        "Classify the email using the binary classification method. Email Spam detection has two\n",
        "states: a) Normal State – Not Spam, b) Abnormal State – Spam. Use K-Nearest Neighbors and\n",
        "Support Vector Machine for classification. Analyze their performance.\n",
        "Dataset link: The emails.csv dataset on the Kaggle\n",
        "https://www.kaggle.com/datasets/balaka18/*email*-spam-classification-dataset-csv\n"
      ]
    },
    {
      "cell_type": "code",
      "execution_count": 1,
      "id": "2529fe97",
      "metadata": {
        "_cell_guid": "b1076dfc-b9ad-4769-8c92-a6c4dae69d19",
        "_uuid": "8f2839f25d086af736a60e9eeb907d3b93b6e0e5",
        "execution": {
          "iopub.execute_input": "2021-12-16T14:50:23.151734Z",
          "iopub.status.busy": "2021-12-16T14:50:23.150453Z",
          "iopub.status.idle": "2021-12-16T14:50:24.751368Z",
          "shell.execute_reply": "2021-12-16T14:50:24.752141Z",
          "shell.execute_reply.started": "2021-12-16T14:39:56.345327Z"
        },
        "papermill": {
          "duration": 1.61793,
          "end_time": "2021-12-16T14:50:24.752508",
          "exception": false,
          "start_time": "2021-12-16T14:50:23.134578",
          "status": "completed"
        },
        "tags": [],
        "id": "2529fe97"
      },
      "outputs": [],
      "source": [
        "# This Python 3 environment comes with many helpful analytics libraries installed\n",
        "\n",
        "\n",
        "import numpy as np # linear algebra\n",
        "import pandas as pd # data processing, CSV file I/O (e.g. pd.read_csv)\n",
        "from sklearn.model_selection import train_test_split\n",
        "from sklearn.naive_bayes import MultinomialNB\n",
        "from sklearn.svm import SVC\n",
        "from sklearn.ensemble import RandomForestClassifier\n",
        "from sklearn.metrics import accuracy_score, confusion_matrix, classification_report, RocCurveDisplay\n",
        "from sklearn.model_selection import cross_val_score, cross_val_predict, cross_validate\n",
        "import seaborn as sns\n"
      ]
    },
    {
      "cell_type": "code",
      "execution_count": 3,
      "id": "7355ecb6",
      "metadata": {
        "execution": {
          "iopub.execute_input": "2021-12-16T14:50:24.780924Z",
          "iopub.status.busy": "2021-12-16T14:50:24.780188Z",
          "iopub.status.idle": "2021-12-16T14:50:27.041078Z",
          "shell.execute_reply": "2021-12-16T14:50:27.041590Z",
          "shell.execute_reply.started": "2021-12-16T14:09:47.219088Z"
        },
        "papermill": {
          "duration": 2.276005,
          "end_time": "2021-12-16T14:50:27.041769",
          "exception": false,
          "start_time": "2021-12-16T14:50:24.765764",
          "status": "completed"
        },
        "tags": [],
        "id": "7355ecb6",
        "outputId": "ef0c9028-ab85-4567-89c7-9028ee9ae74d",
        "colab": {
          "base_uri": "https://localhost:8080/"
        }
      },
      "outputs": [
        {
          "output_type": "stream",
          "name": "stdout",
          "text": [
            "  Email No.  the  to  ect  and  for  of    a  you  hou  ...  connevey  jay  \\\n",
            "0   Email 1    0   0    1    0    0   0    2    0    0  ...         0    0   \n",
            "1   Email 2    8  13   24    6    6   2  102    1   27  ...         0    0   \n",
            "2   Email 3    0   0    1    0    0   0    8    0    0  ...         0    0   \n",
            "3   Email 4    0   5   22    0    5   1   51    2   10  ...         0    0   \n",
            "4   Email 5    7   6   17    1    5   2   57    0    9  ...         0    0   \n",
            "\n",
            "   valued  lay  infrastructure  military  allowing  ff  dry  Prediction  \n",
            "0       0    0               0         0         0   0    0           0  \n",
            "1       0    0               0         0         0   1    0           0  \n",
            "2       0    0               0         0         0   0    0           0  \n",
            "3       0    0               0         0         0   0    0           0  \n",
            "4       0    0               0         0         0   1    0           0  \n",
            "\n",
            "[5 rows x 3002 columns]\n",
            "       Email No.  the  to  ect  and  for  of    a  you  hou  ...  connevey  \\\n",
            "5167  Email 5168    2   2    2    3    0   0   32    0    0  ...         0   \n",
            "5168  Email 5169   35  27   11    2    6   5  151    4    3  ...         0   \n",
            "5169  Email 5170    0   0    1    1    0   0   11    0    0  ...         0   \n",
            "5170  Email 5171    2   7    1    0    2   1   28    2    0  ...         0   \n",
            "5171  Email 5172   22  24    5    1    6   5  148    8    2  ...         0   \n",
            "\n",
            "      jay  valued  lay  infrastructure  military  allowing  ff  dry  \\\n",
            "5167    0       0    0               0         0         0   0    0   \n",
            "5168    0       0    0               0         0         0   1    0   \n",
            "5169    0       0    0               0         0         0   0    0   \n",
            "5170    0       0    0               0         0         0   1    0   \n",
            "5171    0       0    0               0         0         0   0    0   \n",
            "\n",
            "      Prediction  \n",
            "5167           0  \n",
            "5168           0  \n",
            "5169           1  \n",
            "5170           1  \n",
            "5171           0  \n",
            "\n",
            "[5 rows x 3002 columns]\n"
          ]
        }
      ],
      "source": [
        "df=pd.read_csv('emails.csv')\n",
        "print(df.head(5))\n",
        "print(df.tail(5))"
      ]
    },
    {
      "cell_type": "code",
      "execution_count": 4,
      "id": "22c421a6",
      "metadata": {
        "execution": {
          "iopub.execute_input": "2021-12-16T14:50:27.069352Z",
          "iopub.status.busy": "2021-12-16T14:50:27.068073Z",
          "iopub.status.idle": "2021-12-16T14:50:27.111337Z",
          "shell.execute_reply": "2021-12-16T14:50:27.110704Z",
          "shell.execute_reply.started": "2021-12-16T14:09:49.487894Z"
        },
        "papermill": {
          "duration": 0.057859,
          "end_time": "2021-12-16T14:50:27.111507",
          "exception": false,
          "start_time": "2021-12-16T14:50:27.053648",
          "status": "completed"
        },
        "tags": [],
        "id": "22c421a6",
        "outputId": "988e7098-5807-4e6e-d9d1-e12a6b25061f",
        "colab": {
          "base_uri": "https://localhost:8080/"
        }
      },
      "outputs": [
        {
          "output_type": "execute_result",
          "data": {
            "text/plain": [
              "Email No.     0\n",
              "the           0\n",
              "to            0\n",
              "ect           0\n",
              "and           0\n",
              "             ..\n",
              "military      0\n",
              "allowing      0\n",
              "ff            0\n",
              "dry           0\n",
              "Prediction    0\n",
              "Length: 3002, dtype: int64"
            ]
          },
          "metadata": {},
          "execution_count": 4
        }
      ],
      "source": [
        "# Checking for null data. It seems that there is none.\n",
        "df.isnull().sum()"
      ]
    },
    {
      "cell_type": "code",
      "execution_count": 5,
      "id": "752de597",
      "metadata": {
        "execution": {
          "iopub.execute_input": "2021-12-16T14:50:27.140424Z",
          "iopub.status.busy": "2021-12-16T14:50:27.139650Z",
          "iopub.status.idle": "2021-12-16T14:50:27.142607Z",
          "shell.execute_reply": "2021-12-16T14:50:27.141947Z",
          "shell.execute_reply.started": "2021-12-16T14:09:49.533837Z"
        },
        "papermill": {
          "duration": 0.01927,
          "end_time": "2021-12-16T14:50:27.142752",
          "exception": false,
          "start_time": "2021-12-16T14:50:27.123482",
          "status": "completed"
        },
        "tags": [],
        "id": "752de597",
        "colab": {
          "base_uri": "https://localhost:8080/",
          "height": 480
        },
        "outputId": "7dfdea95-d052-4434-f9a2-3694acddf8a2"
      },
      "outputs": [
        {
          "output_type": "stream",
          "name": "stderr",
          "text": [
            "<ipython-input-5-432dd9d4238b>:1: FutureWarning: The default value of numeric_only in DataFrame.corr is deprecated. In a future version, it will default to False. Select only valid columns or specify the value of numeric_only to silence this warning.\n",
            "  df.corr(method='pearson')\n"
          ]
        },
        {
          "output_type": "execute_result",
          "data": {
            "text/plain": [
              "                 the        to       ect       and       for        of  \\\n",
              "the         1.000000  0.852715  0.337249  0.841200  0.784112  0.796397   \n",
              "to          0.852715  1.000000  0.375480  0.825474  0.781971  0.752722   \n",
              "ect         0.337249  0.375480  1.000000  0.272863  0.369777  0.178028   \n",
              "and         0.841200  0.825474  0.272863  1.000000  0.751287  0.809665   \n",
              "for         0.784112  0.781971  0.369777  0.751287  1.000000  0.681457   \n",
              "...              ...       ...       ...       ...       ...       ...   \n",
              "military    0.129466  0.091639 -0.007690  0.084147  0.067151  0.073004   \n",
              "allowing    0.127019  0.120059  0.004368  0.124766  0.121057  0.108786   \n",
              "ff          0.341878  0.406666  0.141460  0.400225  0.301074  0.444252   \n",
              "dry         0.051021  0.071388  0.002492  0.042484  0.038126  0.026403   \n",
              "Prediction -0.004421  0.055277 -0.120782  0.114364 -0.003101  0.197234   \n",
              "\n",
              "                   a       you       hou        in  ...  connevey       jay  \\\n",
              "the         0.784451  0.471392  0.303621  0.845670  ...  0.008926  0.075479   \n",
              "to          0.896466  0.508513  0.347993  0.881759  ...  0.013250  0.101247   \n",
              "ect         0.400009  0.155783  0.974152  0.298387  ...  0.134339  0.031431   \n",
              "and         0.815196  0.476764  0.235953  0.874276  ...  0.005151  0.104454   \n",
              "for         0.744098  0.495852  0.329051  0.762659  ...  0.022168  0.041775   \n",
              "...              ...       ...       ...       ...  ...       ...       ...   \n",
              "military    0.111685  0.006498  0.005429  0.120620  ... -0.002249 -0.002979   \n",
              "allowing    0.105358  0.082757 -0.000966  0.138099  ... -0.002675 -0.003543   \n",
              "ff          0.464473  0.195058  0.114210  0.448303  ...  0.005403  0.073690   \n",
              "dry         0.093822  0.028883  0.000601  0.077751  ... -0.003373  0.035028   \n",
              "Prediction  0.107776  0.130293 -0.128340  0.154055  ... -0.030375 -0.031694   \n",
              "\n",
              "              valued       lay  infrastructure  military  allowing        ff  \\\n",
              "the         0.225586  0.223426        0.101768  0.129466  0.127019  0.341878   \n",
              "to          0.232847  0.255793        0.093322  0.091639  0.120059  0.406666   \n",
              "ect         0.046080  0.061550        0.004393 -0.007690  0.004368  0.141460   \n",
              "and         0.272963  0.253440        0.151980  0.084147  0.124766  0.400225   \n",
              "for         0.236213  0.213631        0.134469  0.067151  0.121057  0.301074   \n",
              "...              ...       ...             ...       ...       ...       ...   \n",
              "military    0.043408  0.104297        0.041300  1.000000  0.055227  0.049524   \n",
              "allowing   -0.005130  0.018550        0.276001  0.055227  1.000000  0.096212   \n",
              "ff          0.130356  0.164296        0.114092  0.049524  0.096212  1.000000   \n",
              "dry        -0.006468  0.018939       -0.003137  0.010835 -0.003995  0.049690   \n",
              "Prediction  0.098775  0.064315        0.038161  0.064850  0.011279  0.135479   \n",
              "\n",
              "                 dry  Prediction  \n",
              "the         0.051021   -0.004421  \n",
              "to          0.071388    0.055277  \n",
              "ect         0.002492   -0.120782  \n",
              "and         0.042484    0.114364  \n",
              "for         0.038126   -0.003101  \n",
              "...              ...         ...  \n",
              "military    0.010835    0.064850  \n",
              "allowing   -0.003995    0.011279  \n",
              "ff          0.049690    0.135479  \n",
              "dry         1.000000   -0.006260  \n",
              "Prediction -0.006260    1.000000  \n",
              "\n",
              "[3001 rows x 3001 columns]"
            ],
            "text/html": [
              "\n",
              "  <div id=\"df-6df672ab-6248-43d2-893a-619f626d34b7\" class=\"colab-df-container\">\n",
              "    <div>\n",
              "<style scoped>\n",
              "    .dataframe tbody tr th:only-of-type {\n",
              "        vertical-align: middle;\n",
              "    }\n",
              "\n",
              "    .dataframe tbody tr th {\n",
              "        vertical-align: top;\n",
              "    }\n",
              "\n",
              "    .dataframe thead th {\n",
              "        text-align: right;\n",
              "    }\n",
              "</style>\n",
              "<table border=\"1\" class=\"dataframe\">\n",
              "  <thead>\n",
              "    <tr style=\"text-align: right;\">\n",
              "      <th></th>\n",
              "      <th>the</th>\n",
              "      <th>to</th>\n",
              "      <th>ect</th>\n",
              "      <th>and</th>\n",
              "      <th>for</th>\n",
              "      <th>of</th>\n",
              "      <th>a</th>\n",
              "      <th>you</th>\n",
              "      <th>hou</th>\n",
              "      <th>in</th>\n",
              "      <th>...</th>\n",
              "      <th>connevey</th>\n",
              "      <th>jay</th>\n",
              "      <th>valued</th>\n",
              "      <th>lay</th>\n",
              "      <th>infrastructure</th>\n",
              "      <th>military</th>\n",
              "      <th>allowing</th>\n",
              "      <th>ff</th>\n",
              "      <th>dry</th>\n",
              "      <th>Prediction</th>\n",
              "    </tr>\n",
              "  </thead>\n",
              "  <tbody>\n",
              "    <tr>\n",
              "      <th>the</th>\n",
              "      <td>1.000000</td>\n",
              "      <td>0.852715</td>\n",
              "      <td>0.337249</td>\n",
              "      <td>0.841200</td>\n",
              "      <td>0.784112</td>\n",
              "      <td>0.796397</td>\n",
              "      <td>0.784451</td>\n",
              "      <td>0.471392</td>\n",
              "      <td>0.303621</td>\n",
              "      <td>0.845670</td>\n",
              "      <td>...</td>\n",
              "      <td>0.008926</td>\n",
              "      <td>0.075479</td>\n",
              "      <td>0.225586</td>\n",
              "      <td>0.223426</td>\n",
              "      <td>0.101768</td>\n",
              "      <td>0.129466</td>\n",
              "      <td>0.127019</td>\n",
              "      <td>0.341878</td>\n",
              "      <td>0.051021</td>\n",
              "      <td>-0.004421</td>\n",
              "    </tr>\n",
              "    <tr>\n",
              "      <th>to</th>\n",
              "      <td>0.852715</td>\n",
              "      <td>1.000000</td>\n",
              "      <td>0.375480</td>\n",
              "      <td>0.825474</td>\n",
              "      <td>0.781971</td>\n",
              "      <td>0.752722</td>\n",
              "      <td>0.896466</td>\n",
              "      <td>0.508513</td>\n",
              "      <td>0.347993</td>\n",
              "      <td>0.881759</td>\n",
              "      <td>...</td>\n",
              "      <td>0.013250</td>\n",
              "      <td>0.101247</td>\n",
              "      <td>0.232847</td>\n",
              "      <td>0.255793</td>\n",
              "      <td>0.093322</td>\n",
              "      <td>0.091639</td>\n",
              "      <td>0.120059</td>\n",
              "      <td>0.406666</td>\n",
              "      <td>0.071388</td>\n",
              "      <td>0.055277</td>\n",
              "    </tr>\n",
              "    <tr>\n",
              "      <th>ect</th>\n",
              "      <td>0.337249</td>\n",
              "      <td>0.375480</td>\n",
              "      <td>1.000000</td>\n",
              "      <td>0.272863</td>\n",
              "      <td>0.369777</td>\n",
              "      <td>0.178028</td>\n",
              "      <td>0.400009</td>\n",
              "      <td>0.155783</td>\n",
              "      <td>0.974152</td>\n",
              "      <td>0.298387</td>\n",
              "      <td>...</td>\n",
              "      <td>0.134339</td>\n",
              "      <td>0.031431</td>\n",
              "      <td>0.046080</td>\n",
              "      <td>0.061550</td>\n",
              "      <td>0.004393</td>\n",
              "      <td>-0.007690</td>\n",
              "      <td>0.004368</td>\n",
              "      <td>0.141460</td>\n",
              "      <td>0.002492</td>\n",
              "      <td>-0.120782</td>\n",
              "    </tr>\n",
              "    <tr>\n",
              "      <th>and</th>\n",
              "      <td>0.841200</td>\n",
              "      <td>0.825474</td>\n",
              "      <td>0.272863</td>\n",
              "      <td>1.000000</td>\n",
              "      <td>0.751287</td>\n",
              "      <td>0.809665</td>\n",
              "      <td>0.815196</td>\n",
              "      <td>0.476764</td>\n",
              "      <td>0.235953</td>\n",
              "      <td>0.874276</td>\n",
              "      <td>...</td>\n",
              "      <td>0.005151</td>\n",
              "      <td>0.104454</td>\n",
              "      <td>0.272963</td>\n",
              "      <td>0.253440</td>\n",
              "      <td>0.151980</td>\n",
              "      <td>0.084147</td>\n",
              "      <td>0.124766</td>\n",
              "      <td>0.400225</td>\n",
              "      <td>0.042484</td>\n",
              "      <td>0.114364</td>\n",
              "    </tr>\n",
              "    <tr>\n",
              "      <th>for</th>\n",
              "      <td>0.784112</td>\n",
              "      <td>0.781971</td>\n",
              "      <td>0.369777</td>\n",
              "      <td>0.751287</td>\n",
              "      <td>1.000000</td>\n",
              "      <td>0.681457</td>\n",
              "      <td>0.744098</td>\n",
              "      <td>0.495852</td>\n",
              "      <td>0.329051</td>\n",
              "      <td>0.762659</td>\n",
              "      <td>...</td>\n",
              "      <td>0.022168</td>\n",
              "      <td>0.041775</td>\n",
              "      <td>0.236213</td>\n",
              "      <td>0.213631</td>\n",
              "      <td>0.134469</td>\n",
              "      <td>0.067151</td>\n",
              "      <td>0.121057</td>\n",
              "      <td>0.301074</td>\n",
              "      <td>0.038126</td>\n",
              "      <td>-0.003101</td>\n",
              "    </tr>\n",
              "    <tr>\n",
              "      <th>...</th>\n",
              "      <td>...</td>\n",
              "      <td>...</td>\n",
              "      <td>...</td>\n",
              "      <td>...</td>\n",
              "      <td>...</td>\n",
              "      <td>...</td>\n",
              "      <td>...</td>\n",
              "      <td>...</td>\n",
              "      <td>...</td>\n",
              "      <td>...</td>\n",
              "      <td>...</td>\n",
              "      <td>...</td>\n",
              "      <td>...</td>\n",
              "      <td>...</td>\n",
              "      <td>...</td>\n",
              "      <td>...</td>\n",
              "      <td>...</td>\n",
              "      <td>...</td>\n",
              "      <td>...</td>\n",
              "      <td>...</td>\n",
              "      <td>...</td>\n",
              "    </tr>\n",
              "    <tr>\n",
              "      <th>military</th>\n",
              "      <td>0.129466</td>\n",
              "      <td>0.091639</td>\n",
              "      <td>-0.007690</td>\n",
              "      <td>0.084147</td>\n",
              "      <td>0.067151</td>\n",
              "      <td>0.073004</td>\n",
              "      <td>0.111685</td>\n",
              "      <td>0.006498</td>\n",
              "      <td>0.005429</td>\n",
              "      <td>0.120620</td>\n",
              "      <td>...</td>\n",
              "      <td>-0.002249</td>\n",
              "      <td>-0.002979</td>\n",
              "      <td>0.043408</td>\n",
              "      <td>0.104297</td>\n",
              "      <td>0.041300</td>\n",
              "      <td>1.000000</td>\n",
              "      <td>0.055227</td>\n",
              "      <td>0.049524</td>\n",
              "      <td>0.010835</td>\n",
              "      <td>0.064850</td>\n",
              "    </tr>\n",
              "    <tr>\n",
              "      <th>allowing</th>\n",
              "      <td>0.127019</td>\n",
              "      <td>0.120059</td>\n",
              "      <td>0.004368</td>\n",
              "      <td>0.124766</td>\n",
              "      <td>0.121057</td>\n",
              "      <td>0.108786</td>\n",
              "      <td>0.105358</td>\n",
              "      <td>0.082757</td>\n",
              "      <td>-0.000966</td>\n",
              "      <td>0.138099</td>\n",
              "      <td>...</td>\n",
              "      <td>-0.002675</td>\n",
              "      <td>-0.003543</td>\n",
              "      <td>-0.005130</td>\n",
              "      <td>0.018550</td>\n",
              "      <td>0.276001</td>\n",
              "      <td>0.055227</td>\n",
              "      <td>1.000000</td>\n",
              "      <td>0.096212</td>\n",
              "      <td>-0.003995</td>\n",
              "      <td>0.011279</td>\n",
              "    </tr>\n",
              "    <tr>\n",
              "      <th>ff</th>\n",
              "      <td>0.341878</td>\n",
              "      <td>0.406666</td>\n",
              "      <td>0.141460</td>\n",
              "      <td>0.400225</td>\n",
              "      <td>0.301074</td>\n",
              "      <td>0.444252</td>\n",
              "      <td>0.464473</td>\n",
              "      <td>0.195058</td>\n",
              "      <td>0.114210</td>\n",
              "      <td>0.448303</td>\n",
              "      <td>...</td>\n",
              "      <td>0.005403</td>\n",
              "      <td>0.073690</td>\n",
              "      <td>0.130356</td>\n",
              "      <td>0.164296</td>\n",
              "      <td>0.114092</td>\n",
              "      <td>0.049524</td>\n",
              "      <td>0.096212</td>\n",
              "      <td>1.000000</td>\n",
              "      <td>0.049690</td>\n",
              "      <td>0.135479</td>\n",
              "    </tr>\n",
              "    <tr>\n",
              "      <th>dry</th>\n",
              "      <td>0.051021</td>\n",
              "      <td>0.071388</td>\n",
              "      <td>0.002492</td>\n",
              "      <td>0.042484</td>\n",
              "      <td>0.038126</td>\n",
              "      <td>0.026403</td>\n",
              "      <td>0.093822</td>\n",
              "      <td>0.028883</td>\n",
              "      <td>0.000601</td>\n",
              "      <td>0.077751</td>\n",
              "      <td>...</td>\n",
              "      <td>-0.003373</td>\n",
              "      <td>0.035028</td>\n",
              "      <td>-0.006468</td>\n",
              "      <td>0.018939</td>\n",
              "      <td>-0.003137</td>\n",
              "      <td>0.010835</td>\n",
              "      <td>-0.003995</td>\n",
              "      <td>0.049690</td>\n",
              "      <td>1.000000</td>\n",
              "      <td>-0.006260</td>\n",
              "    </tr>\n",
              "    <tr>\n",
              "      <th>Prediction</th>\n",
              "      <td>-0.004421</td>\n",
              "      <td>0.055277</td>\n",
              "      <td>-0.120782</td>\n",
              "      <td>0.114364</td>\n",
              "      <td>-0.003101</td>\n",
              "      <td>0.197234</td>\n",
              "      <td>0.107776</td>\n",
              "      <td>0.130293</td>\n",
              "      <td>-0.128340</td>\n",
              "      <td>0.154055</td>\n",
              "      <td>...</td>\n",
              "      <td>-0.030375</td>\n",
              "      <td>-0.031694</td>\n",
              "      <td>0.098775</td>\n",
              "      <td>0.064315</td>\n",
              "      <td>0.038161</td>\n",
              "      <td>0.064850</td>\n",
              "      <td>0.011279</td>\n",
              "      <td>0.135479</td>\n",
              "      <td>-0.006260</td>\n",
              "      <td>1.000000</td>\n",
              "    </tr>\n",
              "  </tbody>\n",
              "</table>\n",
              "<p>3001 rows × 3001 columns</p>\n",
              "</div>\n",
              "    <div class=\"colab-df-buttons\">\n",
              "\n",
              "  <div class=\"colab-df-container\">\n",
              "    <button class=\"colab-df-convert\" onclick=\"convertToInteractive('df-6df672ab-6248-43d2-893a-619f626d34b7')\"\n",
              "            title=\"Convert this dataframe to an interactive table.\"\n",
              "            style=\"display:none;\">\n",
              "\n",
              "  <svg xmlns=\"http://www.w3.org/2000/svg\" height=\"24px\" viewBox=\"0 -960 960 960\">\n",
              "    <path d=\"M120-120v-720h720v720H120Zm60-500h600v-160H180v160Zm220 220h160v-160H400v160Zm0 220h160v-160H400v160ZM180-400h160v-160H180v160Zm440 0h160v-160H620v160ZM180-180h160v-160H180v160Zm440 0h160v-160H620v160Z\"/>\n",
              "  </svg>\n",
              "    </button>\n",
              "\n",
              "  <style>\n",
              "    .colab-df-container {\n",
              "      display:flex;\n",
              "      gap: 12px;\n",
              "    }\n",
              "\n",
              "    .colab-df-convert {\n",
              "      background-color: #E8F0FE;\n",
              "      border: none;\n",
              "      border-radius: 50%;\n",
              "      cursor: pointer;\n",
              "      display: none;\n",
              "      fill: #1967D2;\n",
              "      height: 32px;\n",
              "      padding: 0 0 0 0;\n",
              "      width: 32px;\n",
              "    }\n",
              "\n",
              "    .colab-df-convert:hover {\n",
              "      background-color: #E2EBFA;\n",
              "      box-shadow: 0px 1px 2px rgba(60, 64, 67, 0.3), 0px 1px 3px 1px rgba(60, 64, 67, 0.15);\n",
              "      fill: #174EA6;\n",
              "    }\n",
              "\n",
              "    .colab-df-buttons div {\n",
              "      margin-bottom: 4px;\n",
              "    }\n",
              "\n",
              "    [theme=dark] .colab-df-convert {\n",
              "      background-color: #3B4455;\n",
              "      fill: #D2E3FC;\n",
              "    }\n",
              "\n",
              "    [theme=dark] .colab-df-convert:hover {\n",
              "      background-color: #434B5C;\n",
              "      box-shadow: 0px 1px 3px 1px rgba(0, 0, 0, 0.15);\n",
              "      filter: drop-shadow(0px 1px 2px rgba(0, 0, 0, 0.3));\n",
              "      fill: #FFFFFF;\n",
              "    }\n",
              "  </style>\n",
              "\n",
              "    <script>\n",
              "      const buttonEl =\n",
              "        document.querySelector('#df-6df672ab-6248-43d2-893a-619f626d34b7 button.colab-df-convert');\n",
              "      buttonEl.style.display =\n",
              "        google.colab.kernel.accessAllowed ? 'block' : 'none';\n",
              "\n",
              "      async function convertToInteractive(key) {\n",
              "        const element = document.querySelector('#df-6df672ab-6248-43d2-893a-619f626d34b7');\n",
              "        const dataTable =\n",
              "          await google.colab.kernel.invokeFunction('convertToInteractive',\n",
              "                                                    [key], {});\n",
              "        if (!dataTable) return;\n",
              "\n",
              "        const docLinkHtml = 'Like what you see? Visit the ' +\n",
              "          '<a target=\"_blank\" href=https://colab.research.google.com/notebooks/data_table.ipynb>data table notebook</a>'\n",
              "          + ' to learn more about interactive tables.';\n",
              "        element.innerHTML = '';\n",
              "        dataTable['output_type'] = 'display_data';\n",
              "        await google.colab.output.renderOutput(dataTable, element);\n",
              "        const docLink = document.createElement('div');\n",
              "        docLink.innerHTML = docLinkHtml;\n",
              "        element.appendChild(docLink);\n",
              "      }\n",
              "    </script>\n",
              "  </div>\n",
              "\n",
              "\n",
              "<div id=\"df-4a99f81c-a2d2-4b56-829c-d3289062c68d\">\n",
              "  <button class=\"colab-df-quickchart\" onclick=\"quickchart('df-4a99f81c-a2d2-4b56-829c-d3289062c68d')\"\n",
              "            title=\"Suggest charts.\"\n",
              "            style=\"display:none;\">\n",
              "\n",
              "<svg xmlns=\"http://www.w3.org/2000/svg\" height=\"24px\"viewBox=\"0 0 24 24\"\n",
              "     width=\"24px\">\n",
              "    <g>\n",
              "        <path d=\"M19 3H5c-1.1 0-2 .9-2 2v14c0 1.1.9 2 2 2h14c1.1 0 2-.9 2-2V5c0-1.1-.9-2-2-2zM9 17H7v-7h2v7zm4 0h-2V7h2v10zm4 0h-2v-4h2v4z\"/>\n",
              "    </g>\n",
              "</svg>\n",
              "  </button>\n",
              "\n",
              "<style>\n",
              "  .colab-df-quickchart {\n",
              "      --bg-color: #E8F0FE;\n",
              "      --fill-color: #1967D2;\n",
              "      --hover-bg-color: #E2EBFA;\n",
              "      --hover-fill-color: #174EA6;\n",
              "      --disabled-fill-color: #AAA;\n",
              "      --disabled-bg-color: #DDD;\n",
              "  }\n",
              "\n",
              "  [theme=dark] .colab-df-quickchart {\n",
              "      --bg-color: #3B4455;\n",
              "      --fill-color: #D2E3FC;\n",
              "      --hover-bg-color: #434B5C;\n",
              "      --hover-fill-color: #FFFFFF;\n",
              "      --disabled-bg-color: #3B4455;\n",
              "      --disabled-fill-color: #666;\n",
              "  }\n",
              "\n",
              "  .colab-df-quickchart {\n",
              "    background-color: var(--bg-color);\n",
              "    border: none;\n",
              "    border-radius: 50%;\n",
              "    cursor: pointer;\n",
              "    display: none;\n",
              "    fill: var(--fill-color);\n",
              "    height: 32px;\n",
              "    padding: 0;\n",
              "    width: 32px;\n",
              "  }\n",
              "\n",
              "  .colab-df-quickchart:hover {\n",
              "    background-color: var(--hover-bg-color);\n",
              "    box-shadow: 0 1px 2px rgba(60, 64, 67, 0.3), 0 1px 3px 1px rgba(60, 64, 67, 0.15);\n",
              "    fill: var(--button-hover-fill-color);\n",
              "  }\n",
              "\n",
              "  .colab-df-quickchart-complete:disabled,\n",
              "  .colab-df-quickchart-complete:disabled:hover {\n",
              "    background-color: var(--disabled-bg-color);\n",
              "    fill: var(--disabled-fill-color);\n",
              "    box-shadow: none;\n",
              "  }\n",
              "\n",
              "  .colab-df-spinner {\n",
              "    border: 2px solid var(--fill-color);\n",
              "    border-color: transparent;\n",
              "    border-bottom-color: var(--fill-color);\n",
              "    animation:\n",
              "      spin 1s steps(1) infinite;\n",
              "  }\n",
              "\n",
              "  @keyframes spin {\n",
              "    0% {\n",
              "      border-color: transparent;\n",
              "      border-bottom-color: var(--fill-color);\n",
              "      border-left-color: var(--fill-color);\n",
              "    }\n",
              "    20% {\n",
              "      border-color: transparent;\n",
              "      border-left-color: var(--fill-color);\n",
              "      border-top-color: var(--fill-color);\n",
              "    }\n",
              "    30% {\n",
              "      border-color: transparent;\n",
              "      border-left-color: var(--fill-color);\n",
              "      border-top-color: var(--fill-color);\n",
              "      border-right-color: var(--fill-color);\n",
              "    }\n",
              "    40% {\n",
              "      border-color: transparent;\n",
              "      border-right-color: var(--fill-color);\n",
              "      border-top-color: var(--fill-color);\n",
              "    }\n",
              "    60% {\n",
              "      border-color: transparent;\n",
              "      border-right-color: var(--fill-color);\n",
              "    }\n",
              "    80% {\n",
              "      border-color: transparent;\n",
              "      border-right-color: var(--fill-color);\n",
              "      border-bottom-color: var(--fill-color);\n",
              "    }\n",
              "    90% {\n",
              "      border-color: transparent;\n",
              "      border-bottom-color: var(--fill-color);\n",
              "    }\n",
              "  }\n",
              "</style>\n",
              "\n",
              "  <script>\n",
              "    async function quickchart(key) {\n",
              "      const quickchartButtonEl =\n",
              "        document.querySelector('#' + key + ' button');\n",
              "      quickchartButtonEl.disabled = true;  // To prevent multiple clicks.\n",
              "      quickchartButtonEl.classList.add('colab-df-spinner');\n",
              "      try {\n",
              "        const charts = await google.colab.kernel.invokeFunction(\n",
              "            'suggestCharts', [key], {});\n",
              "      } catch (error) {\n",
              "        console.error('Error during call to suggestCharts:', error);\n",
              "      }\n",
              "      quickchartButtonEl.classList.remove('colab-df-spinner');\n",
              "      quickchartButtonEl.classList.add('colab-df-quickchart-complete');\n",
              "    }\n",
              "    (() => {\n",
              "      let quickchartButtonEl =\n",
              "        document.querySelector('#df-4a99f81c-a2d2-4b56-829c-d3289062c68d button');\n",
              "      quickchartButtonEl.style.display =\n",
              "        google.colab.kernel.accessAllowed ? 'block' : 'none';\n",
              "    })();\n",
              "  </script>\n",
              "</div>\n",
              "    </div>\n",
              "  </div>\n"
            ]
          },
          "metadata": {},
          "execution_count": 5
        }
      ],
      "source": [
        "df.corr(method='pearson')"
      ]
    },
    {
      "cell_type": "code",
      "execution_count": 6,
      "id": "f22dfb73",
      "metadata": {
        "execution": {
          "iopub.execute_input": "2021-12-16T14:50:27.169990Z",
          "iopub.status.busy": "2021-12-16T14:50:27.169347Z",
          "iopub.status.idle": "2021-12-16T14:50:27.325793Z",
          "shell.execute_reply": "2021-12-16T14:50:27.326525Z",
          "shell.execute_reply.started": "2021-12-16T14:09:49.540350Z"
        },
        "papermill": {
          "duration": 0.17198,
          "end_time": "2021-12-16T14:50:27.326723",
          "exception": false,
          "start_time": "2021-12-16T14:50:27.154743",
          "status": "completed"
        },
        "tags": [],
        "id": "f22dfb73",
        "outputId": "efaaf6cb-234f-4654-af69-0aecbcfd254c",
        "colab": {
          "base_uri": "https://localhost:8080/",
          "height": 483
        }
      },
      "outputs": [
        {
          "output_type": "stream",
          "name": "stdout",
          "text": [
            "Visualizing ratio Ham/Spam:\n",
            "\n"
          ]
        },
        {
          "output_type": "execute_result",
          "data": {
            "text/plain": [
              "<function matplotlib.pyplot.show(close=None, block=None)>"
            ]
          },
          "metadata": {},
          "execution_count": 6
        },
        {
          "output_type": "display_data",
          "data": {
            "text/plain": [
              "<Figure size 640x480 with 1 Axes>"
            ],
            "image/png": "[encoded data removed]"
          },
          "metadata": {}
        }
      ],
      "source": [
        "import matplotlib.pyplot as plt\n",
        "print(\"Visualizing ratio Ham/Spam:\\n\")\n",
        "count_Class = pd.value_counts(df['Prediction'], sort=True)\n",
        "# print(count_Class)\n",
        "count_Class.plot(kind = 'pie',labels=['Ham','Spam'], autopct='%1.0f%%,')\n",
        "plt.title('Ham vs Spam')\n",
        "plt.ylabel('')\n",
        "plt.show"
      ]
    },
    {
      "cell_type": "code",
      "execution_count": 7,
      "id": "a6dd931c",
      "metadata": {
        "execution": {
          "iopub.execute_input": "2021-12-16T14:50:27.410600Z",
          "iopub.status.busy": "2021-12-16T14:50:27.409626Z",
          "iopub.status.idle": "2021-12-16T14:50:27.412594Z",
          "shell.execute_reply": "2021-12-16T14:50:27.413087Z",
          "shell.execute_reply.started": "2021-12-16T14:09:49.708488Z"
        },
        "papermill": {
          "duration": 0.073265,
          "end_time": "2021-12-16T14:50:27.413288",
          "exception": false,
          "start_time": "2021-12-16T14:50:27.340023",
          "status": "completed"
        },
        "tags": [],
        "id": "a6dd931c",
        "outputId": "cf37e099-0150-4ae3-cb93-9f52fc9048cc",
        "colab": {
          "base_uri": "https://localhost:8080/"
        }
      },
      "outputs": [
        {
          "output_type": "stream",
          "name": "stdout",
          "text": [
            "(5172, 3000)\n",
            "(5172,)\n"
          ]
        }
      ],
      "source": [
        "# Splitting dataframe into features and target.\n",
        "X = df.iloc[:,1:-1]\n",
        "Y = df.iloc[:,-1].values\n",
        "print(X.shape)\n",
        "print(Y.shape)"
      ]
    },
    {
      "cell_type": "code",
      "execution_count": 8,
      "id": "cb145a71",
      "metadata": {
        "execution": {
          "iopub.execute_input": "2021-12-16T14:50:27.476444Z",
          "iopub.status.busy": "2021-12-16T14:50:27.475294Z",
          "iopub.status.idle": "2021-12-16T14:50:27.573084Z",
          "shell.execute_reply": "2021-12-16T14:50:27.573597Z",
          "shell.execute_reply.started": "2021-12-16T14:09:49.766229Z"
        },
        "papermill": {
          "duration": 0.120088,
          "end_time": "2021-12-16T14:50:27.573779",
          "exception": false,
          "start_time": "2021-12-16T14:50:27.453691",
          "status": "completed"
        },
        "tags": [],
        "id": "cb145a71"
      },
      "outputs": [],
      "source": [
        "from sklearn.metrics import confusion_matrix\n",
        "import matplotlib.pyplot as plt\n",
        "\n",
        "def plot_confusion_matrix(y_true, y_pred, classes):\n",
        "    cm = confusion_matrix(y_true, y_pred)\n",
        "    plt.figure(figsize=(8, 6))\n",
        "    plt.imshow(cm, interpolation='nearest', cmap=plt.cm.Blues)\n",
        "    plt.title('Confusion Matrix')\n",
        "    plt.colorbar()\n",
        "    tick_marks = np.arange(len(classes))\n",
        "    plt.xticks(tick_marks, classes)\n",
        "    plt.yticks(tick_marks, classes)\n",
        "    plt.xlabel('Predicted')\n",
        "    plt.ylabel('True')\n",
        "    plt.show()\n"
      ]
    },
    {
      "cell_type": "markdown",
      "id": "adda014f",
      "metadata": {
        "id": "adda014f"
      },
      "source": [
        "## Naive Bayes"
      ]
    },
    {
      "cell_type": "code",
      "execution_count": 11,
      "id": "44a385f4",
      "metadata": {
        "execution": {
          "iopub.execute_input": "2021-12-16T14:50:27.636467Z",
          "iopub.status.busy": "2021-12-16T14:50:27.624916Z",
          "iopub.status.idle": "2021-12-16T14:50:28.025487Z",
          "shell.execute_reply": "2021-12-16T14:50:28.024866Z",
          "shell.execute_reply.started": "2021-12-16T14:10:40.825902Z"
        },
        "papermill": {
          "duration": 0.438345,
          "end_time": "2021-12-16T14:50:28.025645",
          "exception": false,
          "start_time": "2021-12-16T14:50:27.587300",
          "status": "completed"
        },
        "scrolled": false,
        "tags": [],
        "id": "44a385f4",
        "outputId": "8b149385-7e65-4407-b4b6-3bbadc44ab2f",
        "colab": {
          "base_uri": "https://localhost:8080/",
          "height": 617
        }
      },
      "outputs": [
        {
          "output_type": "stream",
          "name": "stdout",
          "text": [
            "              precision    recall  f1-score   support\n",
            "\n",
            "         Ham       0.98      0.95      0.97       739\n",
            "        Spam       0.89      0.96      0.92       296\n",
            "\n",
            "    accuracy                           0.95      1035\n",
            "   macro avg       0.94      0.96      0.94      1035\n",
            "weighted avg       0.96      0.95      0.95      1035\n",
            "\n",
            "Accuracy score for Naive Bayes: 0.9536231884057971\n"
          ]
        },
        {
          "output_type": "display_data",
          "data": {
            "text/plain": [
              "<Figure size 640x480 with 2 Axes>"
            ],
            "image/png": "[encoded data removed]"
          },
          "metadata": {}
        }
      ],
      "source": [
        "from sklearn.model_selection import train_test_split\n",
        "from sklearn.naive_bayes import MultinomialNB\n",
        "from sklearn.metrics import classification_report, accuracy_score, confusion_matrix\n",
        "import seaborn as sns\n",
        "\n",
        "# Splitting dataframe into features and target.\n",
        "X = df.iloc[:, 1:-1]\n",
        "Y = df.iloc[:, -1].values\n",
        "\n",
        "# Split the data into training and testing sets\n",
        "train_x, test_x, train_y, test_y = train_test_split(X, Y, test_size=0.2, random_state=42)\n",
        "\n",
        "# Create and train the Multinomial Naive Bayes model\n",
        "mnb = MultinomialNB(alpha=1.9)\n",
        "mnb.fit(train_x, train_y)\n",
        "y_predNB = mnb.predict(test_x)\n",
        "target_labels = ['Ham', 'Spam']\n",
        "\n",
        "# Print classification report\n",
        "print(classification_report(test_y, y_predNB, target_names=target_labels))\n",
        "\n",
        "# Print accuracy score\n",
        "print(\"Accuracy score for Naive Bayes:\", accuracy_score(test_y, y_predNB))\n",
        "\n",
        "# Create a confusion matrix\n",
        "cm = confusion_matrix(test_y, y_predNB)\n",
        "\n",
        "# Define group names and counts for annotation\n",
        "group_names = ['True Neg', 'False Pos', 'False Neg', 'True Pos']\n",
        "group_counts = [\"{0:0.0f}\".format(value) for value in cm.flatten()]\n",
        "\n",
        "labels = [f\"{v1}\\n{v2}\" for v1, v2 in zip(group_names, group_counts)]\n",
        "labels = np.asarray(labels).reshape(2, 2)\n",
        "\n",
        "# Create a heatmap for the confusion matrix\n",
        "sns.heatmap(cm, annot=labels, fmt='', cmap='Blues')\n",
        "plt.show()\n"
      ]
    },
    {
      "cell_type": "markdown",
      "id": "2c5270df",
      "metadata": {
        "id": "2c5270df"
      },
      "source": [
        "## K-Nearest Neighbors"
      ]
    },
    {
      "cell_type": "code",
      "execution_count": 14,
      "id": "f728ac6b",
      "metadata": {
        "scrolled": true,
        "id": "f728ac6b"
      },
      "outputs": [],
      "source": [
        "from sklearn.neighbors import KNeighborsClassifier\n",
        "from sklearn.metrics import classification_report"
      ]
    },
    {
      "cell_type": "code",
      "execution_count": 15,
      "id": "5a0fe97f",
      "metadata": {
        "id": "5a0fe97f",
        "outputId": "f32ea951-b55c-48e4-d8be-a7c66c7f469e",
        "colab": {
          "base_uri": "https://localhost:8080/",
          "height": 74
        }
      },
      "outputs": [
        {
          "output_type": "execute_result",
          "data": {
            "text/plain": [
              "KNeighborsClassifier(n_neighbors=2)"
            ],
            "text/html": [
              "<style>#sk-container-id-2 {color: black;background-color: white;}#sk-container-id-2 pre{padding: 0;}#sk-container-id-2 div.sk-toggleable {background-color: white;}#sk-container-id-2 label.sk-toggleable__label {cursor: pointer;display: block;width: 100%;margin-bottom: 0;padding: 0.3em;box-sizing: border-box;text-align: center;}#sk-container-id-2 label.sk-toggleable__label-arrow:before {content: \"▸\";float: left;margin-right: 0.25em;color: #696969;}#sk-container-id-2 label.sk-toggleable__label-arrow:hover:before {color: black;}#sk-container-id-2 div.sk-estimator:hover label.sk-toggleable__label-arrow:before {color: black;}#sk-container-id-2 div.sk-toggleable__content {max-height: 0;max-width: 0;overflow: hidden;text-align: left;background-color: #f0f8ff;}#sk-container-id-2 div.sk-toggleable__content pre {margin: 0.2em;color: black;border-radius: 0.25em;background-color: #f0f8ff;}#sk-container-id-2 input.sk-toggleable__control:checked~div.sk-toggleable__content {max-height: 200px;max-width: 100%;overflow: auto;}#sk-container-id-2 input.sk-toggleable__control:checked~label.sk-toggleable__label-arrow:before {content: \"▾\";}#sk-container-id-2 div.sk-estimator input.sk-toggleable__control:checked~label.sk-toggleable__label {background-color: #d4ebff;}#sk-container-id-2 div.sk-label input.sk-toggleable__control:checked~label.sk-toggleable__label {background-color: #d4ebff;}#sk-container-id-2 input.sk-hidden--visually {border: 0;clip: rect(1px 1px 1px 1px);clip: rect(1px, 1px, 1px, 1px);height: 1px;margin: -1px;overflow: hidden;padding: 0;position: absolute;width: 1px;}#sk-container-id-2 div.sk-estimator {font-family: monospace;background-color: #f0f8ff;border: 1px dotted black;border-radius: 0.25em;box-sizing: border-box;margin-bottom: 0.5em;}#sk-container-id-2 div.sk-estimator:hover {background-color: #d4ebff;}#sk-container-id-2 div.sk-parallel-item::after {content: \"\";width: 100%;border-bottom: 1px solid gray;flex-grow: 1;}#sk-container-id-2 div.sk-label:hover label.sk-toggleable__label {background-color: #d4ebff;}#sk-container-id-2 div.sk-serial::before {content: \"\";position: absolute;border-left: 1px solid gray;box-sizing: border-box;top: 0;bottom: 0;left: 50%;z-index: 0;}#sk-container-id-2 div.sk-serial {display: flex;flex-direction: column;align-items: center;background-color: white;padding-right: 0.2em;padding-left: 0.2em;position: relative;}#sk-container-id-2 div.sk-item {position: relative;z-index: 1;}#sk-container-id-2 div.sk-parallel {display: flex;align-items: stretch;justify-content: center;background-color: white;position: relative;}#sk-container-id-2 div.sk-item::before, #sk-container-id-2 div.sk-parallel-item::before {content: \"\";position: absolute;border-left: 1px solid gray;box-sizing: border-box;top: 0;bottom: 0;left: 50%;z-index: -1;}#sk-container-id-2 div.sk-parallel-item {display: flex;flex-direction: column;z-index: 1;position: relative;background-color: white;}#sk-container-id-2 div.sk-parallel-item:first-child::after {align-self: flex-end;width: 50%;}#sk-container-id-2 div.sk-parallel-item:last-child::after {align-self: flex-start;width: 50%;}#sk-container-id-2 div.sk-parallel-item:only-child::after {width: 0;}#sk-container-id-2 div.sk-dashed-wrapped {border: 1px dashed gray;margin: 0 0.4em 0.5em 0.4em;box-sizing: border-box;padding-bottom: 0.4em;background-color: white;}#sk-container-id-2 div.sk-label label {font-family: monospace;font-weight: bold;display: inline-block;line-height: 1.2em;}#sk-container-id-2 div.sk-label-container {text-align: center;}#sk-container-id-2 div.sk-container {/* jupyter's `normalize.less` sets `[hidden] { display: none; }` but bootstrap.min.css set `[hidden] { display: none !important; }` so we also need the `!important` here to be able to override the default hidden behavior on the sphinx rendered scikit-learn.org. See: https://github.com/scikit-learn/scikit-learn/issues/21755 */display: inline-block !important;position: relative;}#sk-container-id-2 div.sk-text-repr-fallback {display: none;}</style><div id=\"sk-container-id-2\" class=\"sk-top-container\"><div class=\"sk-text-repr-fallback\"><pre>KNeighborsClassifier(n_neighbors=2)</pre><b>In a Jupyter environment, please rerun this cell to show the HTML representation or trust the notebook. <br />On GitHub, the HTML representation is unable to render, please try loading this page with nbviewer.org.</b></div><div class=\"sk-container\" hidden><div class=\"sk-item\"><div class=\"sk-estimator sk-toggleable\"><input class=\"sk-toggleable__control sk-hidden--visually\" id=\"sk-estimator-id-2\" type=\"checkbox\" checked><label for=\"sk-estimator-id-2\" class=\"sk-toggleable__label sk-toggleable__label-arrow\">KNeighborsClassifier</label><div class=\"sk-toggleable__content\"><pre>KNeighborsClassifier(n_neighbors=2)</pre></div></div></div></div></div>"
            ]
          },
          "metadata": {},
          "execution_count": 15
        }
      ],
      "source": [
        "KNclassifier = KNeighborsClassifier(n_neighbors=2, metric='minkowski', p=2)\n",
        "KNclassifier.fit(train_x, train_y)"
      ]
    },
    {
      "cell_type": "markdown",
      "id": "7c112774",
      "metadata": {
        "id": "7c112774"
      },
      "source": [
        "## Support vector machines (SVMs)"
      ]
    },
    {
      "cell_type": "code",
      "execution_count": 19,
      "id": "171d5918",
      "metadata": {
        "id": "171d5918"
      },
      "outputs": [],
      "source": [
        "from sklearn.svm import SVC\n",
        "from sklearn.metrics import classification_report\n"
      ]
    },
    {
      "cell_type": "code",
      "execution_count": 20,
      "id": "2b57f9fa",
      "metadata": {
        "id": "2b57f9fa",
        "outputId": "326e9171-89df-47e0-e764-ee51ad8cbdea",
        "colab": {
          "base_uri": "https://localhost:8080/",
          "height": 74
        }
      },
      "outputs": [
        {
          "output_type": "execute_result",
          "data": {
            "text/plain": [
              "SVC(gamma='auto', kernel='poly')"
            ],
            "text/html": [
              "<style>#sk-container-id-4 {color: black;background-color: white;}#sk-container-id-4 pre{padding: 0;}#sk-container-id-4 div.sk-toggleable {background-color: white;}#sk-container-id-4 label.sk-toggleable__label {cursor: pointer;display: block;width: 100%;margin-bottom: 0;padding: 0.3em;box-sizing: border-box;text-align: center;}#sk-container-id-4 label.sk-toggleable__label-arrow:before {content: \"▸\";float: left;margin-right: 0.25em;color: #696969;}#sk-container-id-4 label.sk-toggleable__label-arrow:hover:before {color: black;}#sk-container-id-4 div.sk-estimator:hover label.sk-toggleable__label-arrow:before {color: black;}#sk-container-id-4 div.sk-toggleable__content {max-height: 0;max-width: 0;overflow: hidden;text-align: left;background-color: #f0f8ff;}#sk-container-id-4 div.sk-toggleable__content pre {margin: 0.2em;color: black;border-radius: 0.25em;background-color: #f0f8ff;}#sk-container-id-4 input.sk-toggleable__control:checked~div.sk-toggleable__content {max-height: 200px;max-width: 100%;overflow: auto;}#sk-container-id-4 input.sk-toggleable__control:checked~label.sk-toggleable__label-arrow:before {content: \"▾\";}#sk-container-id-4 div.sk-estimator input.sk-toggleable__control:checked~label.sk-toggleable__label {background-color: #d4ebff;}#sk-container-id-4 div.sk-label input.sk-toggleable__control:checked~label.sk-toggleable__label {background-color: #d4ebff;}#sk-container-id-4 input.sk-hidden--visually {border: 0;clip: rect(1px 1px 1px 1px);clip: rect(1px, 1px, 1px, 1px);height: 1px;margin: -1px;overflow: hidden;padding: 0;position: absolute;width: 1px;}#sk-container-id-4 div.sk-estimator {font-family: monospace;background-color: #f0f8ff;border: 1px dotted black;border-radius: 0.25em;box-sizing: border-box;margin-bottom: 0.5em;}#sk-container-id-4 div.sk-estimator:hover {background-color: #d4ebff;}#sk-container-id-4 div.sk-parallel-item::after {content: \"\";width: 100%;border-bottom: 1px solid gray;flex-grow: 1;}#sk-container-id-4 div.sk-label:hover label.sk-toggleable__label {background-color: #d4ebff;}#sk-container-id-4 div.sk-serial::before {content: \"\";position: absolute;border-left: 1px solid gray;box-sizing: border-box;top: 0;bottom: 0;left: 50%;z-index: 0;}#sk-container-id-4 div.sk-serial {display: flex;flex-direction: column;align-items: center;background-color: white;padding-right: 0.2em;padding-left: 0.2em;position: relative;}#sk-container-id-4 div.sk-item {position: relative;z-index: 1;}#sk-container-id-4 div.sk-parallel {display: flex;align-items: stretch;justify-content: center;background-color: white;position: relative;}#sk-container-id-4 div.sk-item::before, #sk-container-id-4 div.sk-parallel-item::before {content: \"\";position: absolute;border-left: 1px solid gray;box-sizing: border-box;top: 0;bottom: 0;left: 50%;z-index: -1;}#sk-container-id-4 div.sk-parallel-item {display: flex;flex-direction: column;z-index: 1;position: relative;background-color: white;}#sk-container-id-4 div.sk-parallel-item:first-child::after {align-self: flex-end;width: 50%;}#sk-container-id-4 div.sk-parallel-item:last-child::after {align-self: flex-start;width: 50%;}#sk-container-id-4 div.sk-parallel-item:only-child::after {width: 0;}#sk-container-id-4 div.sk-dashed-wrapped {border: 1px dashed gray;margin: 0 0.4em 0.5em 0.4em;box-sizing: border-box;padding-bottom: 0.4em;background-color: white;}#sk-container-id-4 div.sk-label label {font-family: monospace;font-weight: bold;display: inline-block;line-height: 1.2em;}#sk-container-id-4 div.sk-label-container {text-align: center;}#sk-container-id-4 div.sk-container {/* jupyter's `normalize.less` sets `[hidden] { display: none; }` but bootstrap.min.css set `[hidden] { display: none !important; }` so we also need the `!important` here to be able to override the default hidden behavior on the sphinx rendered scikit-learn.org. See: https://github.com/scikit-learn/scikit-learn/issues/21755 */display: inline-block !important;position: relative;}#sk-container-id-4 div.sk-text-repr-fallback {display: none;}</style><div id=\"sk-container-id-4\" class=\"sk-top-container\"><div class=\"sk-text-repr-fallback\"><pre>SVC(gamma=&#x27;auto&#x27;, kernel=&#x27;poly&#x27;)</pre><b>In a Jupyter environment, please rerun this cell to show the HTML representation or trust the notebook. <br />On GitHub, the HTML representation is unable to render, please try loading this page with nbviewer.org.</b></div><div class=\"sk-container\" hidden><div class=\"sk-item\"><div class=\"sk-estimator sk-toggleable\"><input class=\"sk-toggleable__control sk-hidden--visually\" id=\"sk-estimator-id-4\" type=\"checkbox\" checked><label for=\"sk-estimator-id-4\" class=\"sk-toggleable__label sk-toggleable__label-arrow\">SVC</label><div class=\"sk-toggleable__content\"><pre>SVC(gamma=&#x27;auto&#x27;, kernel=&#x27;poly&#x27;)</pre></div></div></div></div></div>"
            ]
          },
          "metadata": {},
          "execution_count": 20
        }
      ],
      "source": [
        "SVC_classifier = SVC(kernel='poly', gamma='auto', degree=3)\n",
        "SVC_classifier.fit(train_x, train_y)\n"
      ]
    },
    {
      "cell_type": "code",
      "execution_count": 21,
      "id": "cf8b2dba",
      "metadata": {
        "id": "cf8b2dba",
        "outputId": "822d8296-020c-4fbc-ac8e-a4821a04ec91",
        "colab": {
          "base_uri": "https://localhost:8080/"
        }
      },
      "outputs": [
        {
          "output_type": "stream",
          "name": "stdout",
          "text": [
            "Accuracy score for SVC: 0.8927536231884058\n"
          ]
        }
      ],
      "source": [
        "accuracy = SVC_classifier.score(test_x, test_y)\n",
        "print(\"Accuracy score for SVC:\", accuracy)"
      ]
    },
    {
      "cell_type": "code",
      "source": [
        "y_pred_SVC = SVC_classifier.predict(test_x)"
      ],
      "metadata": {
        "id": "L8kh5qMgn7Nu"
      },
      "id": "L8kh5qMgn7Nu",
      "execution_count": 22,
      "outputs": []
    },
    {
      "cell_type": "code",
      "source": [
        "classification_report_SVC = classification_report(test_y, y_pred_SVC, target_names=target_labels)\n"
      ],
      "metadata": {
        "id": "_ZcdGStkn7ai"
      },
      "id": "_ZcdGStkn7ai",
      "execution_count": 23,
      "outputs": []
    },
    {
      "cell_type": "code",
      "source": [
        "print(classification_report_SVC)"
      ],
      "metadata": {
        "colab": {
          "base_uri": "https://localhost:8080/"
        },
        "id": "ujKEcSxboBBQ",
        "outputId": "03ef3a0b-70fb-4c77-b144-4b21a692d14f"
      },
      "id": "ujKEcSxboBBQ",
      "execution_count": 24,
      "outputs": [
        {
          "output_type": "stream",
          "name": "stdout",
          "text": [
            "              precision    recall  f1-score   support\n",
            "\n",
            "         Ham       0.89      0.97      0.93       739\n",
            "        Spam       0.90      0.70      0.79       296\n",
            "\n",
            "    accuracy                           0.89      1035\n",
            "   macro avg       0.90      0.83      0.86      1035\n",
            "weighted avg       0.89      0.89      0.89      1035\n",
            "\n"
          ]
        }
      ]
    }
  ],
  "metadata": {
    "kernelspec": {
      "display_name": "Python 3",
      "language": "python",
      "name": "python3"
    },
    "language_info": {
      "codemirror_mode": {
        "name": "ipython",
        "version": 3
      },
      "file_extension": ".py",
      "mimetype": "text/x-python",
      "name": "python",
      "nbconvert_exporter": "python",
      "pygments_lexer": "ipython3",
      "version": "3.9.1"
    },
    "papermill": {
      "default_parameters": {},
      "duration": 48.833188,
      "end_time": "2021-12-16T14:51:00.485812",
      "environment_variables": {},
      "exception": null,
      "input_path": "__notebook__.ipynb",
      "output_path": "__notebook__.ipynb",
      "parameters": {},
      "start_time": "2021-12-16T14:50:11.652624",
      "version": "2.3.3"
    },
    "colab": {
      "provenance": []
    }
  },
  "nbformat": 4,
  "nbformat_minor": 5
}